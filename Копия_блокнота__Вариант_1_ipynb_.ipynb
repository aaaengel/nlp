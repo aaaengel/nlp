{
  "nbformat": 4,
  "nbformat_minor": 0,
  "metadata": {
    "colab": {
      "provenance": []
    },
    "kernelspec": {
      "name": "python3",
      "display_name": "Python 3"
    },
    "language_info": {
      "name": "python"
    }
  },
  "cells": [
    {
      "cell_type": "markdown",
      "source": [
        "# Задача определения частей речи, Part-Of-Speech Tagger (POS) (10 баллов)"
      ],
      "metadata": {
        "id": "ULbCuaDmDczF"
      }
    },
    {
      "cell_type": "markdown",
      "source": [
        "Мы будем решать задачу определения частей речи (POS-теггинга)."
      ],
      "metadata": {
        "id": "PsOJVk-5Di1a"
      }
    },
    {
      "cell_type": "code",
      "execution_count": null,
      "metadata": {
        "id": "-IjDxsorDY1r"
      },
      "outputs": [],
      "source": [
        "import nltk\n",
        "import pandas as pd\n",
        "import numpy as np\n",
        "from nltk.corpus import brown\n",
        "import matplotlib.pyplot as plt\n",
        "from collections import Counter"
      ]
    },
    {
      "cell_type": "markdown",
      "source": [
        "Чтобы решить задание, почитайте http://www.nltk.org/book/"
      ],
      "metadata": {
        "id": "-KROzo8fDmCn"
      }
    },
    {
      "cell_type": "markdown",
      "source": [
        "Загрузим brown корпус"
      ],
      "metadata": {
        "id": "sP3e1DWfDt-5"
      }
    },
    {
      "cell_type": "code",
      "source": [
        "nltk.download('brown')"
      ],
      "metadata": {
        "id": "8dg4QaXXDvd6",
        "outputId": "f7520c52-dee0-46bc-8c6a-f19ebd55b76c",
        "colab": {
          "base_uri": "https://localhost:8080/"
        }
      },
      "execution_count": null,
      "outputs": [
        {
          "output_type": "stream",
          "name": "stderr",
          "text": [
            "[nltk_data] Downloading package brown to /root/nltk_data...\n",
            "[nltk_data]   Unzipping corpora/brown.zip.\n"
          ]
        },
        {
          "output_type": "execute_result",
          "data": {
            "text/plain": [
              "True"
            ]
          },
          "metadata": {},
          "execution_count": 3
        }
      ]
    },
    {
      "cell_type": "markdown",
      "source": [
        "<b>Существует не одна система тегирования, поэтому будьте внимательны, когда прогнозируете тег слов в тексте и вычисляете качество прогноза. Можете получить несправедливо низкое качество вашего решения."
      ],
      "metadata": {
        "id": "kAOrp0MODyOu"
      }
    },
    {
      "cell_type": "markdown",
      "source": [
        "Cейчас будем использовать универсальную систему тегирования universal_tagset"
      ],
      "metadata": {
        "id": "bTVtNR_dD1VI"
      }
    },
    {
      "cell_type": "code",
      "source": [
        "nltk.download('universal_tagset')"
      ],
      "metadata": {
        "id": "dvUAKCRZD3bX",
        "outputId": "81a19166-c168-4c20-b72b-f77c715c7b2b",
        "colab": {
          "base_uri": "https://localhost:8080/"
        }
      },
      "execution_count": null,
      "outputs": [
        {
          "output_type": "stream",
          "name": "stderr",
          "text": [
            "[nltk_data] Downloading package universal_tagset to /root/nltk_data...\n",
            "[nltk_data]   Unzipping taggers/universal_tagset.zip.\n"
          ]
        },
        {
          "output_type": "execute_result",
          "data": {
            "text/plain": [
              "True"
            ]
          },
          "metadata": {},
          "execution_count": 4
        }
      ]
    },
    {
      "cell_type": "markdown",
      "source": [
        "Мы имеем массив предложений пар (слово-тег)"
      ],
      "metadata": {
        "id": "pbZDjq5wD9tr"
      }
    },
    {
      "cell_type": "code",
      "source": [
        "brown_tagged_sents = brown.tagged_sents(tagset=\"universal\")\n",
        "brown_tagged_sents"
      ],
      "metadata": {
        "id": "aawxvOy1D_CR",
        "outputId": "80badae7-e375-4362-dd84-b1d109333075",
        "colab": {
          "base_uri": "https://localhost:8080/"
        }
      },
      "execution_count": null,
      "outputs": [
        {
          "output_type": "execute_result",
          "data": {
            "text/plain": [
              "[[('The', 'DET'), ('Fulton', 'NOUN'), ('County', 'NOUN'), ('Grand', 'ADJ'), ('Jury', 'NOUN'), ('said', 'VERB'), ('Friday', 'NOUN'), ('an', 'DET'), ('investigation', 'NOUN'), ('of', 'ADP'), (\"Atlanta's\", 'NOUN'), ('recent', 'ADJ'), ('primary', 'NOUN'), ('election', 'NOUN'), ('produced', 'VERB'), ('``', '.'), ('no', 'DET'), ('evidence', 'NOUN'), (\"''\", '.'), ('that', 'ADP'), ('any', 'DET'), ('irregularities', 'NOUN'), ('took', 'VERB'), ('place', 'NOUN'), ('.', '.')], [('The', 'DET'), ('jury', 'NOUN'), ('further', 'ADV'), ('said', 'VERB'), ('in', 'ADP'), ('term-end', 'NOUN'), ('presentments', 'NOUN'), ('that', 'ADP'), ('the', 'DET'), ('City', 'NOUN'), ('Executive', 'ADJ'), ('Committee', 'NOUN'), (',', '.'), ('which', 'DET'), ('had', 'VERB'), ('over-all', 'ADJ'), ('charge', 'NOUN'), ('of', 'ADP'), ('the', 'DET'), ('election', 'NOUN'), (',', '.'), ('``', '.'), ('deserves', 'VERB'), ('the', 'DET'), ('praise', 'NOUN'), ('and', 'CONJ'), ('thanks', 'NOUN'), ('of', 'ADP'), ('the', 'DET'), ('City', 'NOUN'), ('of', 'ADP'), ('Atlanta', 'NOUN'), (\"''\", '.'), ('for', 'ADP'), ('the', 'DET'), ('manner', 'NOUN'), ('in', 'ADP'), ('which', 'DET'), ('the', 'DET'), ('election', 'NOUN'), ('was', 'VERB'), ('conducted', 'VERB'), ('.', '.')], ...]"
            ]
          },
          "metadata": {},
          "execution_count": 5
        }
      ]
    },
    {
      "cell_type": "markdown",
      "source": [
        "Первое предложение"
      ],
      "metadata": {
        "id": "vLEzOkB7EBXL"
      }
    },
    {
      "cell_type": "code",
      "source": [
        "brown_tagged_sents[0]"
      ],
      "metadata": {
        "id": "w46umy3rECrj",
        "outputId": "5066eb58-a453-4740-94e8-038e85bc6143",
        "colab": {
          "base_uri": "https://localhost:8080/"
        }
      },
      "execution_count": null,
      "outputs": [
        {
          "output_type": "execute_result",
          "data": {
            "text/plain": [
              "[('The', 'DET'),\n",
              " ('Fulton', 'NOUN'),\n",
              " ('County', 'NOUN'),\n",
              " ('Grand', 'ADJ'),\n",
              " ('Jury', 'NOUN'),\n",
              " ('said', 'VERB'),\n",
              " ('Friday', 'NOUN'),\n",
              " ('an', 'DET'),\n",
              " ('investigation', 'NOUN'),\n",
              " ('of', 'ADP'),\n",
              " (\"Atlanta's\", 'NOUN'),\n",
              " ('recent', 'ADJ'),\n",
              " ('primary', 'NOUN'),\n",
              " ('election', 'NOUN'),\n",
              " ('produced', 'VERB'),\n",
              " ('``', '.'),\n",
              " ('no', 'DET'),\n",
              " ('evidence', 'NOUN'),\n",
              " (\"''\", '.'),\n",
              " ('that', 'ADP'),\n",
              " ('any', 'DET'),\n",
              " ('irregularities', 'NOUN'),\n",
              " ('took', 'VERB'),\n",
              " ('place', 'NOUN'),\n",
              " ('.', '.')]"
            ]
          },
          "metadata": {},
          "execution_count": 6
        }
      ]
    },
    {
      "cell_type": "markdown",
      "source": [
        "Все пары (слово-тег)"
      ],
      "metadata": {
        "id": "n7orRdReEFfC"
      }
    },
    {
      "cell_type": "code",
      "source": [
        "brown_tagged_words = brown.tagged_words(tagset='universal')\n",
        "brown_tagged_words"
      ],
      "metadata": {
        "id": "HTeNfM4UEHEK",
        "outputId": "e7f5f430-a2c0-4c3a-9533-2cabb60be12a",
        "colab": {
          "base_uri": "https://localhost:8080/"
        }
      },
      "execution_count": null,
      "outputs": [
        {
          "output_type": "execute_result",
          "data": {
            "text/plain": [
              "[('The', 'DET'), ('Fulton', 'NOUN'), ...]"
            ]
          },
          "metadata": {},
          "execution_count": 9
        }
      ]
    },
    {
      "cell_type": "markdown",
      "source": [
        "Проанализируйте данные, с которыми Вы работаете. Используйте `nltk.FreqDist()` для подсчета частоты встречаемости тега и слова в нашем корпусе. Под частой элемента подразумевается кол-во этого элемента в корпусе."
      ],
      "metadata": {
        "id": "P65LtzQlEI_R"
      }
    },
    {
      "cell_type": "code",
      "source": [
        "# Приведем слова к нижнему регистру\n",
        "brown_tagged_words = list(map(lambda x: (x[0].lower(), x[1]), brown_tagged_words))"
      ],
      "metadata": {
        "id": "HAGw2PQHEM7P"
      },
      "execution_count": null,
      "outputs": []
    },
    {
      "cell_type": "code",
      "source": [
        "print('Кол-во предложений: ', len(brown_tagged_sents))\n",
        "tags = [tag for (word, tag) in brown_tagged_words] # наши теги\n",
        "words = [word for (word, tag) in brown_tagged_words] # наши слова\n",
        "\n",
        "tag_num = pd.Series(nltk.FreqDist(tags)).sort_values(ascending=False) # тег - кол-во тега в корпусе\n",
        "word_num = pd.Series(nltk.FreqDist(words)).sort_values(ascending=False) # слово - кол-во слова в корпусе"
      ],
      "metadata": {
        "id": "Fj3OCfjbEOIP",
        "outputId": "d7bb3322-aebb-479f-b761-4516ef3c709c",
        "colab": {
          "base_uri": "https://localhost:8080/"
        }
      },
      "execution_count": null,
      "outputs": [
        {
          "output_type": "stream",
          "name": "stdout",
          "text": [
            "Кол-во предложений:  57340\n"
          ]
        }
      ]
    },
    {
      "cell_type": "code",
      "source": [
        "tag_num"
      ],
      "metadata": {
        "id": "3uD-zPn4EPrG",
        "outputId": "d2deaa30-972c-4562-cc23-6321f11e3cd7",
        "colab": {
          "base_uri": "https://localhost:8080/"
        }
      },
      "execution_count": null,
      "outputs": [
        {
          "output_type": "execute_result",
          "data": {
            "text/plain": [
              "NOUN    275558\n",
              "VERB    182750\n",
              ".       147565\n",
              "ADP     144766\n",
              "DET     137019\n",
              "ADJ      83721\n",
              "ADV      56239\n",
              "PRON     49334\n",
              "CONJ     38151\n",
              "PRT      29829\n",
              "NUM      14874\n",
              "X         1386\n",
              "dtype: int64"
            ]
          },
          "metadata": {},
          "execution_count": 12
        }
      ]
    },
    {
      "cell_type": "code",
      "source": [
        "plt.figure(figsize=(12, 5))\n",
        "plt.bar(tag_num.index, tag_num.values)\n",
        "plt.title(\"Tag_frequency\")\n",
        "plt.show()"
      ],
      "metadata": {
        "id": "Dd7DxcmUEQ5g",
        "outputId": "2459bf27-80ee-4556-f909-e8caa9b28487",
        "colab": {
          "base_uri": "https://localhost:8080/",
          "height": 468
        }
      },
      "execution_count": null,
      "outputs": [
        {
          "output_type": "display_data",
          "data": {
            "text/plain": [
              "<Figure size 1200x500 with 1 Axes>"
            ],
            "image/png": "[encoded data removed]"
          },
          "metadata": {}
        }
      ]
    },
    {
      "cell_type": "code",
      "source": [
        "word_num[:5]"
      ],
      "metadata": {
        "id": "S0AbxAS3ESX2",
        "outputId": "539bd8f8-7e08-46d3-98d9-09e503c07b8d",
        "colab": {
          "base_uri": "https://localhost:8080/"
        }
      },
      "execution_count": null,
      "outputs": [
        {
          "output_type": "execute_result",
          "data": {
            "text/plain": [
              "the    69971\n",
              ",      58334\n",
              ".      49346\n",
              "of     36412\n",
              "and    28853\n",
              "dtype: int64"
            ]
          },
          "metadata": {},
          "execution_count": 14
        }
      ]
    },
    {
      "cell_type": "code",
      "source": [
        "plt.figure(figsize=(12, 5))\n",
        "plt.bar(word_num.index[:10], word_num.values[:10])\n",
        "plt.title(\"Word_frequency\")\n",
        "plt.show()"
      ],
      "metadata": {
        "id": "z8qjrT_tETb_",
        "outputId": "f13a81b9-7b95-4ab7-cf7b-4930cbfaa7c7",
        "colab": {
          "base_uri": "https://localhost:8080/",
          "height": 468
        }
      },
      "execution_count": null,
      "outputs": [
        {
          "output_type": "display_data",
          "data": {
            "text/plain": [
              "<Figure size 1200x500 with 1 Axes>"
            ],
            "image/png": "[encoded data removed]"
          },
          "metadata": {}
        }
      ]
    },
    {
      "cell_type": "markdown",
      "source": [
        "### Вопрос 1:\n",
        "* Кол-во слова `cat` в корпусе? **(0.5 балл)**"
      ],
      "metadata": {
        "id": "O994VhA_EMfj"
      }
    },
    {
      "cell_type": "code",
      "source": [
        "word_num[\"cat\"]"
      ],
      "metadata": {
        "id": "uEc4ehy8EXMp",
        "outputId": "08cce388-9860-4325-f2b2-c9f984921bf9",
        "colab": {
          "base_uri": "https://localhost:8080/"
        }
      },
      "execution_count": null,
      "outputs": [
        {
          "output_type": "execute_result",
          "data": {
            "text/plain": [
              "23"
            ]
          },
          "metadata": {},
          "execution_count": 16
        }
      ]
    },
    {
      "cell_type": "markdown",
      "source": [
        "### Вопрос 2:\n",
        "* Самое популярное слово с самым популярным тегом? **(0.5 балл)**\n"
      ],
      "metadata": {
        "id": "zo0d6XF0EY6X"
      }
    },
    {
      "cell_type": "code",
      "source": [
        "# Выбираем сначала слова с самым популярным тегом, а затем среди них выбираем самое популярное слово.\n",
        "pop_tag_w = [word for (word, tag) in brown_tagged_words if tag == tag_num.keys()[0]]\n",
        "pd.Series(nltk.FreqDist(pop_tag_w)).sort_values(ascending=False).keys()[0]"
      ],
      "metadata": {
        "id": "VrlyXIqVEdDp",
        "outputId": "e73e5f33-b0c3-474e-8357-3580e6f5fa7b",
        "colab": {
          "base_uri": "https://localhost:8080/",
          "height": 35
        }
      },
      "execution_count": null,
      "outputs": [
        {
          "output_type": "execute_result",
          "data": {
            "text/plain": [
              "'time'"
            ],
            "application/vnd.google.colaboratory.intrinsic+json": {
              "type": "string"
            }
          },
          "metadata": {},
          "execution_count": 17
        }
      ]
    },
    {
      "cell_type": "markdown",
      "source": [
        "Cделайте разбиение выборки на обучение и контроль в отношении 9:1. **(0.5 балл)**"
      ],
      "metadata": {
        "id": "NACQZOnfEbrU"
      }
    },
    {
      "cell_type": "code",
      "source": [
        "brown_tagged_sents = brown.tagged_sents(tagset=\"universal\")\n",
        "# Приведем слова к нижнему регистру\n",
        "my_brown_tagged_sents = []\n",
        "for sent in brown_tagged_sents:\n",
        "    my_brown_tagged_sents.append(list(map(lambda x: (x[0].lower(), x[1]), sent)))\n",
        "my_brown_tagged_sents = np.array(my_brown_tagged_sents)\n",
        "\n",
        "from sklearn.model_selection import train_test_split\n",
        "train_sents, test_sents = train_test_split(my_brown_tagged_sents, test_size = 0.1, random_state=0,)"
      ],
      "metadata": {
        "id": "BbM3Ik2mEiJs",
        "colab": {
          "base_uri": "https://localhost:8080/"
        },
        "outputId": "16c7ef78-1be5-4387-c825-cff779363dc4"
      },
      "execution_count": null,
      "outputs": [
        {
          "output_type": "stream",
          "name": "stderr",
          "text": [
            "<ipython-input-22-f33ad562a33c>:6: VisibleDeprecationWarning: Creating an ndarray from ragged nested sequences (which is a list-or-tuple of lists-or-tuples-or ndarrays with different lengths or shapes) is deprecated. If you meant to do this, you must specify 'dtype=object' when creating the ndarray.\n",
            "  my_brown_tagged_sents = np.array(my_brown_tagged_sents)\n"
          ]
        }
      ]
    },
    {
      "cell_type": "code",
      "source": [
        "len(train_sents), len(test_sents)\n",
        "train_sents"
      ],
      "metadata": {
        "id": "z98sY1k5EjpZ",
        "colab": {
          "base_uri": "https://localhost:8080/"
        },
        "outputId": "5791e024-e4e9-4652-f943-0e386b53d1cd"
      },
      "execution_count": null,
      "outputs": [
        {
          "output_type": "execute_result",
          "data": {
            "text/plain": [
              "array([list([('hal', 'NOUN'), (',', '.'), ('the', 'DET'), ('linguist', 'NOUN'), (',', '.'), ('saw', 'VERB'), ('the', 'DET'), ('glittering', 'VERB'), ('discs', 'NOUN'), ('and', 'CONJ'), ('necklaces', 'NOUN'), ('in', 'ADP'), ('terms', 'NOUN'), ('of', 'ADP'), ('the', 'DET'), ('languages', 'NOUN'), ('spoken', 'VERB'), ('therein', 'ADV'), ('.', '.')]),\n",
              "       list([('.', '.')]),\n",
              "       list([('on', 'ADP'), ('july', 'NOUN'), ('11', 'NUM'), ('the', 'DET'), ('head', 'NOUN'), ('of', 'ADP'), ('the', 'DET'), ('mineral-rich', 'ADJ'), ('province', 'NOUN'), ('of', 'ADP'), ('katanga', 'NOUN'), (',', '.'), ('moise', 'NOUN'), ('tshombe', 'NOUN'), (',', '.'), ('announced', 'VERB'), ('that', 'ADP'), ('his', 'DET'), ('province', 'NOUN'), ('had', 'VERB'), ('seceded', 'VERB'), ('from', 'ADP'), ('the', 'DET'), ('country', 'NOUN'), ('.', '.')]),\n",
              "       ...,\n",
              "       list([('the', 'DET'), ('card', 'NOUN'), ('the', 'DET'), ('man', 'NOUN'), ('i', 'PRON'), ('was', 'VERB'), ('shadowing', 'VERB'), ('had', 'VERB'), ('filled', 'VERB'), ('out', 'PRT'), ('was', 'VERB'), ('still', 'ADV'), ('on', 'ADP'), ('the', 'DET'), ('counter', 'NOUN'), ('.', '.')]),\n",
              "       list([('he', 'PRON'), ('was', 'VERB'), ('not', 'ADV'), ('a', 'DET'), ('superstitious', 'ADJ'), ('man', 'NOUN'), (',', '.'), ('but', 'CONJ'), ('he', 'PRON'), ('felt', 'VERB'), ('perhaps', 'ADV'), ('there', 'PRT'), ('was', 'VERB'), ('a', 'DET'), ('little', 'ADJ'), ('something', 'NOUN'), ('in', 'ADP'), ('that', 'DET'), (',', '.'), ('indeed', 'ADV'), ('.', '.')]),\n",
              "       list([('on', 'ADP'), ('a', 'DET'), ('quarter-to-quarter', 'ADJ'), ('comparison', 'NOUN'), (',', '.'), ('the', 'DET'), ('first', 'ADJ'), ('quarter', 'NOUN'), ('of', 'ADP'), ('1961', 'NUM'), ('total', 'NOUN'), ('of', 'ADP'), ('9,273', 'NUM'), ('cars', 'NOUN'), ('was', 'VERB'), ('21', 'NUM'), ('per', 'ADP'), ('cent', 'NOUN'), ('behind', 'ADP'), ('the', 'DET'), ('previous', 'ADJ'), (\"year's\", 'NOUN'), ('3-month', 'ADJ'), ('total', 'NOUN'), ('of', 'ADP'), ('11,744', 'NUM'), ('.', '.')])],\n",
              "      dtype=object)"
            ]
          },
          "metadata": {},
          "execution_count": 24
        }
      ]
    },
    {
      "cell_type": "markdown",
      "source": [
        "## DefaultTagger"
      ],
      "metadata": {
        "id": "MKvUkYYmEmWl"
      }
    },
    {
      "cell_type": "markdown",
      "source": [
        "### Вопрос 3:\n",
        "* Какое качество вы бы получили, если бы предсказывали любой тег, как самый популярный тег на выборке train(округлите до одного знака после запятой)? **(0.5 балл)**"
      ],
      "metadata": {
        "id": "lmddv5oBEoAu"
      }
    },
    {
      "cell_type": "markdown",
      "source": [
        "Вы можете использовать DefaultTagger(метод tag для предсказания частей речи предложения)."
      ],
      "metadata": {
        "id": "rzpMy0pnEqdm"
      }
    },
    {
      "cell_type": "code",
      "source": [
        "from nltk.tag import DefaultTagger\n",
        "tags2 = [tag for (word, tag) in sent for sent in train_sents]\n",
        "cnt = Counter(tags2)\n",
        "default_tagger = DefaultTagger(cnt.most_common(1)[0][0])"
      ],
      "metadata": {
        "id": "F-N1FQ4OEroJ"
      },
      "execution_count": null,
      "outputs": []
    },
    {
      "cell_type": "code",
      "source": [
        "true_pred = 0\n",
        "num_pred = 0\n",
        "\n",
        "for sent in test_sents:\n",
        "    tags = np.array([tag for (word, tag) in sent])\n",
        "    words = np.array([word for (word, tag) in sent])\n",
        "\n",
        "    true_pred += Counter(tags)[cnt.most_common(1)[0][0]]\n",
        "    num_pred += len(words)\n",
        "print(\"Accuracy:\", true_pred / num_pred * 100, '%')"
      ],
      "metadata": {
        "id": "cic19b1GEsju",
        "colab": {
          "base_uri": "https://localhost:8080/"
        },
        "outputId": "c8f2cbf9-fa8f-40d8-b8b5-d3d6c50c5d9b"
      },
      "execution_count": null,
      "outputs": [
        {
          "output_type": "stream",
          "name": "stdout",
          "text": [
            "Accuracy: 2.586713697824809 %\n"
          ]
        }
      ]
    },
    {
      "cell_type": "markdown",
      "source": [
        "## LSTMTagger"
      ],
      "metadata": {
        "id": "qCeRNR9YEuoc"
      }
    },
    {
      "cell_type": "markdown",
      "source": [
        "### Подготовка данных"
      ],
      "metadata": {
        "id": "3MnP45S9EwhJ"
      }
    },
    {
      "cell_type": "markdown",
      "source": [
        "Изменим структуру данных"
      ],
      "metadata": {
        "id": "y26dX5UfEyB8"
      }
    },
    {
      "cell_type": "code",
      "source": [
        "pos_data = [list(zip(*sent)) for sent in brown_tagged_sents]\n",
        "print(pos_data[0])"
      ],
      "metadata": {
        "id": "0G_svM_vEzNd",
        "colab": {
          "base_uri": "https://localhost:8080/"
        },
        "outputId": "14a22f12-3359-4d63-989b-fb5278d6a82f"
      },
      "execution_count": null,
      "outputs": [
        {
          "output_type": "stream",
          "name": "stdout",
          "text": [
            "[('The', 'Fulton', 'County', 'Grand', 'Jury', 'said', 'Friday', 'an', 'investigation', 'of', \"Atlanta's\", 'recent', 'primary', 'election', 'produced', '``', 'no', 'evidence', \"''\", 'that', 'any', 'irregularities', 'took', 'place', '.'), ('DET', 'NOUN', 'NOUN', 'ADJ', 'NOUN', 'VERB', 'NOUN', 'DET', 'NOUN', 'ADP', 'NOUN', 'ADJ', 'NOUN', 'NOUN', 'VERB', '.', 'DET', 'NOUN', '.', 'ADP', 'DET', 'NOUN', 'VERB', 'NOUN', '.')]\n"
          ]
        }
      ]
    },
    {
      "cell_type": "markdown",
      "source": [
        "Используем pytorch"
      ],
      "metadata": {
        "id": "edtdfyMOE0s7"
      }
    },
    {
      "cell_type": "code",
      "source": [
        "from torchtext.data import Field, BucketIterator\n",
        "import torchtext\n",
        "\n",
        "# наши поля\n",
        "WORD = Field(lower=True)\n",
        "TAG = Field(unk_token=None) # все токены нам извсетны\n",
        "\n",
        "# создаем примеры\n",
        "examples = []\n",
        "for words, tags in pos_data:\n",
        "    examples.append(torchtext.data.Example.fromlist([list(words), list(tags)], fields=[('words', WORD), ('tags', TAG)]))"
      ],
      "metadata": {
        "id": "lse6eIF8E3jT",
        "colab": {
          "base_uri": "https://localhost:8080/",
          "height": 383
        },
        "outputId": "b3e7c312-d9a0-425d-b22b-ec61076b5078"
      },
      "execution_count": null,
      "outputs": [
        {
          "output_type": "error",
          "ename": "ImportError",
          "evalue": "ignored",
          "traceback": [
            "\u001b[0;31m---------------------------------------------------------------------------\u001b[0m",
            "\u001b[0;31mImportError\u001b[0m                               Traceback (most recent call last)",
            "\u001b[0;32m<ipython-input-67-68c173f979fe>\u001b[0m in \u001b[0;36m<cell line: 1>\u001b[0;34m()\u001b[0m\n\u001b[0;32m----> 1\u001b[0;31m \u001b[0;32mfrom\u001b[0m \u001b[0mtorchtext\u001b[0m\u001b[0;34m.\u001b[0m\u001b[0mdata\u001b[0m \u001b[0;32mimport\u001b[0m \u001b[0mField\u001b[0m\u001b[0;34m,\u001b[0m \u001b[0mBucketIterator\u001b[0m\u001b[0;34m\u001b[0m\u001b[0;34m\u001b[0m\u001b[0m\n\u001b[0m\u001b[1;32m      2\u001b[0m \u001b[0;32mimport\u001b[0m \u001b[0mtorchtext\u001b[0m\u001b[0;34m\u001b[0m\u001b[0;34m\u001b[0m\u001b[0m\n\u001b[1;32m      3\u001b[0m \u001b[0;34m\u001b[0m\u001b[0m\n\u001b[1;32m      4\u001b[0m \u001b[0;31m# наши поля\u001b[0m\u001b[0;34m\u001b[0m\u001b[0;34m\u001b[0m\u001b[0m\n\u001b[1;32m      5\u001b[0m \u001b[0mWORD\u001b[0m \u001b[0;34m=\u001b[0m \u001b[0mField\u001b[0m\u001b[0;34m(\u001b[0m\u001b[0mlower\u001b[0m\u001b[0;34m=\u001b[0m\u001b[0;32mTrue\u001b[0m\u001b[0;34m)\u001b[0m\u001b[0;34m\u001b[0m\u001b[0;34m\u001b[0m\u001b[0m\n",
            "\u001b[0;31mImportError\u001b[0m: cannot import name 'Field' from 'torchtext.data' (/usr/local/lib/python3.10/dist-packages/torchtext/data/__init__.py)",
            "",
            "\u001b[0;31m---------------------------------------------------------------------------\u001b[0;32m\nNOTE: If your import is failing due to a missing package, you can\nmanually install dependencies using either !pip or !apt.\n\nTo view examples of installing some common dependencies, click the\n\"Open Examples\" button below.\n\u001b[0;31m---------------------------------------------------------------------------\u001b[0m\n"
          ],
          "errorDetails": {
            "actions": [
              {
                "action": "open_url",
                "actionText": "Open Examples",
                "url": "/notebooks/snippets/importing_libraries.ipynb"
              }
            ]
          }
        }
      ]
    },
    {
      "cell_type": "markdown",
      "source": [
        "Вот один пример:"
      ],
      "metadata": {
        "id": "kaWj9v1KE6fN"
      }
    },
    {
      "cell_type": "code",
      "source": [
        "print(vars(examples[0]))"
      ],
      "metadata": {
        "id": "4U-j12pUE8Gw"
      },
      "execution_count": null,
      "outputs": []
    },
    {
      "cell_type": "markdown",
      "source": [
        "Теперь формируем наш датасет"
      ],
      "metadata": {
        "id": "ql_rxZ2hE-NQ"
      }
    },
    {
      "cell_type": "code",
      "source": [
        "# кладем примеры в наш датасет\n",
        "dataset = torchtext.data.Dataset(examples, fields=[('words', WORD), ('tags', TAG)])\n",
        "\n",
        "train_data, valid_data, test_data = dataset.split(split_ratio=[0.8, 0.1, 0.1])\n",
        "\n",
        "print(f\"Number of training examples: {len(train_data.examples)}\")\n",
        "print(f\"Number of validation examples: {len(valid_data.examples)}\")\n",
        "print(f\"Number of testing examples: {len(test_data.examples)}\")"
      ],
      "metadata": {
        "id": "oSz26JmFE_fp"
      },
      "execution_count": null,
      "outputs": []
    },
    {
      "cell_type": "markdown",
      "source": [
        "Построим словари. Параметр `min_freq` выберете сами. При построении словаря испольузем только **train** **(0.5 балл)**"
      ],
      "metadata": {
        "id": "tDIU85xhFBkk"
      }
    },
    {
      "cell_type": "code",
      "source": [
        "WORD.build_vocab('''your code''', min_freq='''your code''')\n",
        "TAG.build_vocab('''your code''')\n",
        "\n",
        "print(f\"Unique tokens in source (ru) vocabulary: {len(WORD.vocab)}\")\n",
        "print(f\"Unique tokens in target (en) vocabulary: {len(TAG.vocab)}\")\n",
        "\n",
        "print(WORD.vocab.itos[::200])\n",
        "print(TAG.vocab.itos)"
      ],
      "metadata": {
        "id": "v7y86zb_FDLy"
      },
      "execution_count": null,
      "outputs": []
    },
    {
      "cell_type": "markdown",
      "source": [
        "Здесь вы увидете токен `unk` и `pad`. Первый служит для обозначения слов, которых у нас нет в словаре. Второй служит для того, что объекты в одном батче были одинакового размера."
      ],
      "metadata": {
        "id": "wWHHpg7ZFFBy"
      }
    },
    {
      "cell_type": "code",
      "source": [
        "print(vars(train_data.examples[9]))"
      ],
      "metadata": {
        "id": "da-NJsDZFG5R"
      },
      "execution_count": null,
      "outputs": []
    },
    {
      "cell_type": "markdown",
      "source": [
        "Посмотрим с насколько большими предложениями мы имеем дело"
      ],
      "metadata": {
        "id": "9lFhuFSxFGjG"
      }
    },
    {
      "cell_type": "code",
      "source": [
        "length = map(len, [vars(x)['words'] for x in train_data.examples])\n",
        "\n",
        "plt.figure(figsize=[8, 4])\n",
        "plt.title(\"Length distribution in Train data\")\n",
        "plt.hist(list(length), bins=20);"
      ],
      "metadata": {
        "id": "SZ_MoUU-FKFZ"
      },
      "execution_count": null,
      "outputs": []
    },
    {
      "cell_type": "markdown",
      "source": [
        "Для обучения `LSTM` лучше использовать colab"
      ],
      "metadata": {
        "id": "fXGyfB3CFMj1"
      }
    },
    {
      "cell_type": "code",
      "source": [
        "import torch\n",
        "from torch import nn\n",
        "import torch.nn.functional as F\n",
        "import torch.optim as optim\n",
        "\n",
        "device = torch.device('cuda' if torch.cuda.is_available() else 'cpu')\n",
        "device"
      ],
      "metadata": {
        "id": "h4s5pvntFN2B"
      },
      "execution_count": null,
      "outputs": []
    },
    {
      "cell_type": "markdown",
      "source": [
        "Для более быстрого и устойчивого обучения сгруппируем наши данные по батчам"
      ],
      "metadata": {
        "id": "IBGcryIOFPUm"
      }
    },
    {
      "cell_type": "code",
      "source": [
        "# бьем нашу выборку на батч, не забывая сначала отсортировать выборку по длине\n",
        "def _len_sort_key(x):\n",
        "    return len(x.words)\n",
        "\n",
        "BATCH_SIZE = 32\n",
        "\n",
        "train_iterator, valid_iterator, test_iterator = BucketIterator.splits(\n",
        "    (train_data, valid_data, test_data),\n",
        "    batch_size = BATCH_SIZE,\n",
        "    device = device,\n",
        "    sort_key=_len_sort_key\n",
        ")"
      ],
      "metadata": {
        "id": "WoG31J9LFRPM"
      },
      "execution_count": null,
      "outputs": []
    },
    {
      "cell_type": "code",
      "source": [
        "# посморим  на количество батчей\n",
        "list(map(len, [train_iterator, valid_iterator, test_iterator]))"
      ],
      "metadata": {
        "id": "d8sS_kx-FScv"
      },
      "execution_count": null,
      "outputs": []
    },
    {
      "cell_type": "markdown",
      "source": [
        "### Модель и её обучение"
      ],
      "metadata": {
        "id": "Fh9IjTSXFUYa"
      }
    },
    {
      "cell_type": "markdown",
      "source": [
        "Инициализируем нашу модель. Прочитайте про dropout [тут](https://habr.com/ru/company/wunderfund/blog/330814/). **(3 балла)**"
      ],
      "metadata": {
        "id": "TOCW_kx4FWrD"
      }
    },
    {
      "cell_type": "code",
      "source": [
        "class LSTMTagger(nn.Module):\n",
        "\n",
        "    def __init__(self, input_dim, emb_dim, hid_dim, output_dim, dropout):\n",
        "        super().__init__()\n",
        "\n",
        "\n",
        "        self.embeddings = '''your code'''\n",
        "        self.dropout = nn.Dropout(p=dropout)\n",
        "\n",
        "        self.rnn = nn.LSTM('''your code''')\n",
        "        self.tag = nn.Linear(hid_dim, output_dim)\n",
        "\n",
        "    def forward(self, sent):\n",
        "\n",
        "        #sent = [sent len, batch size]\n",
        "\n",
        "        # не забываем применить dropout к embedding\n",
        "        embedded = self.dropout('''your code''')\n",
        "\n",
        "        output, _ = self.rnn(embedded)\n",
        "        #output = [sent len, batch size, hid dim * n directions]\n",
        "\n",
        "        prediction = self.tag('''your code''')\n",
        "\n",
        "        return prediction\n",
        "\n",
        "# параметры модели\n",
        "INPUT_DIM = len(WORD.vocab)\n",
        "OUTPUT_DIM = len(TAG.vocab)\n",
        "EMB_DIM = '''your code'''\n",
        "HID_DIM = '''your code'''\n",
        "DROPOUT = 0.5\n",
        "\n",
        "model = LSTMTagger('''your code''').to(device)\n",
        "\n",
        "# инициализируем веса\n",
        "def init_weights(m):\n",
        "    for name, param in m.named_parameters():\n",
        "        nn.init.uniform_(param, -0.08, 0.08)\n",
        "\n",
        "model.apply(init_weights)"
      ],
      "metadata": {
        "id": "2AOdspvVFbNI"
      },
      "execution_count": null,
      "outputs": []
    },
    {
      "cell_type": "markdown",
      "source": [
        "Подсчитаем количество обучаемых параметров нашей модели. Используйте метод `numel()`. **(1 балл)**"
      ],
      "metadata": {
        "id": "40LeJJkuFgXj"
      }
    },
    {
      "cell_type": "code",
      "source": [
        "def count_parameters(model):\n",
        "    return '''your code'''\n",
        "\n",
        "print(f'The model has {count_parameters(model):,} trainable parameters')"
      ],
      "metadata": {
        "id": "r3I1u6PnFeMN"
      },
      "execution_count": null,
      "outputs": []
    },
    {
      "cell_type": "markdown",
      "source": [
        "Погнали обучать **(2 балла)**"
      ],
      "metadata": {
        "id": "YzBhHJbIFiF1"
      }
    },
    {
      "cell_type": "code",
      "source": [
        "PAD_IDX = TAG.vocab.stoi['<pad>']\n",
        "optimizer = optim.Adam(model.parameters())\n",
        "criterion = nn.CrossEntropyLoss(ignore_index = PAD_IDX)\n",
        "\n",
        "def train(model, iterator, optimizer, criterion, clip, train_history=None, valid_history=None):\n",
        "    model.train()\n",
        "\n",
        "    epoch_loss = 0\n",
        "    history = []\n",
        "    for i, batch in enumerate(iterator):\n",
        "\n",
        "        words = '''your code'''\n",
        "        tags = '''your code'''\n",
        "\n",
        "        optimizer.zero_grad()\n",
        "\n",
        "        output = model('''your code''')\n",
        "\n",
        "        #tags = [sent len, batch size]\n",
        "        #output = [sent len, batch size, output dim]\n",
        "\n",
        "        output = '''your code'''\n",
        "        tags = tags.view(-1)\n",
        "\n",
        "        #tags = [sent len * batch size]\n",
        "        #output = [sent len * batch size, output dim]\n",
        "\n",
        "        loss = criterion('''your code''')\n",
        "\n",
        "        loss.backward()\n",
        "\n",
        "        # Gradient clipping(решение проблемы взрыва граденты), clip - максимальная норма вектора\n",
        "        torch.nn.utils.clip_grad_norm_(model.parameters(), max_norm=clip)\n",
        "\n",
        "        optimizer.step()\n",
        "\n",
        "        epoch_loss += loss.item()\n",
        "\n",
        "        history.append(loss.cpu().data.numpy())\n",
        "        if (i+1)%10==0:\n",
        "            fig, ax = plt.subplots(nrows=1, ncols=2, figsize=(12, 8))\n",
        "\n",
        "            clear_output(True)\n",
        "            ax[0].plot(history, label='train loss')\n",
        "            ax[0].set_xlabel('Batch')\n",
        "            ax[0].set_title('Train loss')\n",
        "\n",
        "            if train_history is not None:\n",
        "                ax[1].plot(train_history, label='general train history')\n",
        "                ax[1].set_xlabel('Epoch')\n",
        "            if valid_history is not None:\n",
        "                ax[1].plot(valid_history, label='general valid history')\n",
        "            plt.legend()\n",
        "\n",
        "            plt.show()\n",
        "\n",
        "\n",
        "    return epoch_loss / len(iterator)\n",
        "\n",
        "def evaluate(model, iterator, criterion):\n",
        "    model.eval()\n",
        "\n",
        "    epoch_loss = 0\n",
        "\n",
        "    history = []\n",
        "\n",
        "    with torch.no_grad():\n",
        "\n",
        "        for i, batch in enumerate(iterator):\n",
        "\n",
        "            words = '''your code'''\n",
        "            tags = '''your code'''\n",
        "\n",
        "            output = model('''your code''')\n",
        "\n",
        "            #tags = [sent len, batch size]\n",
        "            #output = [sent len, batch size, output dim]\n",
        "\n",
        "            output = '''your code'''\n",
        "            tags = tags.view(-1)\n",
        "\n",
        "            #tags = [sent len * batch size]\n",
        "            #output = [sent len * batch size, output dim]\n",
        "\n",
        "            loss = criterion('''your code''')\n",
        "\n",
        "            epoch_loss += loss.item()\n",
        "\n",
        "    return epoch_loss / len(iterator)\n",
        "\n",
        "def epoch_time(start_time, end_time):\n",
        "    elapsed_time = end_time - start_time\n",
        "    elapsed_mins = int(elapsed_time / 60)\n",
        "    elapsed_secs = int(elapsed_time - (elapsed_mins * 60))\n",
        "    return elapsed_mins, elapsed_secs"
      ],
      "metadata": {
        "id": "cAbxHhQPFjeS"
      },
      "execution_count": null,
      "outputs": []
    },
    {
      "cell_type": "code",
      "source": [
        "import time\n",
        "import math\n",
        "import matplotlib\n",
        "matplotlib.rcParams.update({'figure.figsize': (16, 12), 'font.size': 14})\n",
        "import matplotlib.pyplot as plt\n",
        "%matplotlib inline\n",
        "from IPython.display import clear_output\n",
        "\n",
        "train_history = []\n",
        "valid_history = []\n",
        "\n",
        "N_EPOCHS = '''your code'''\n",
        "CLIP = '''your code'''\n",
        "\n",
        "best_valid_loss = float('inf')\n",
        "\n",
        "for epoch in range(N_EPOCHS):\n",
        "\n",
        "    start_time = time.time()\n",
        "\n",
        "    train_loss = train(model, train_iterator, optimizer, criterion, CLIP, train_history, valid_history)\n",
        "    valid_loss = evaluate(model, valid_iterator, criterion)\n",
        "\n",
        "    end_time = time.time()\n",
        "\n",
        "    epoch_mins, epoch_secs = epoch_time(start_time, end_time)\n",
        "\n",
        "    if valid_loss < best_valid_loss:\n",
        "        best_valid_loss = valid_loss\n",
        "        torch.save(model.state_dict(), 'best-val-model.pt')\n",
        "\n",
        "    train_history.append(train_loss)\n",
        "    valid_history.append(valid_loss)\n",
        "    print(f'Epoch: {epoch+1:02} | Time: {epoch_mins}m {epoch_secs}s')\n",
        "    print(f'\\tTrain Loss: {train_loss:.3f} | Train PPL: {math.exp(train_loss):7.3f}')\n",
        "    print(f'\\t Val. Loss: {valid_loss:.3f} |  Val. PPL: {math.exp(valid_loss):7.3f}')"
      ],
      "metadata": {
        "id": "BPsyf7IUFk4g"
      },
      "execution_count": null,
      "outputs": []
    },
    {
      "cell_type": "markdown",
      "source": [
        "### Применение модели\n",
        " **(1 балл)**"
      ],
      "metadata": {
        "id": "OmlLPHb6Fm6Y"
      }
    },
    {
      "cell_type": "code",
      "source": [
        "def accuracy_model(model, iterator):\n",
        "    model.eval()\n",
        "\n",
        "    true_pred = 0\n",
        "    num_pred = 0\n",
        "\n",
        "    with torch.no_grad():\n",
        "        for i, batch in enumerate(iterator):\n",
        "\n",
        "           '''your code'''\n",
        "\n",
        "            output = model('''your code''')\n",
        "\n",
        "            #output = [sent len, batch size, output dim]\n",
        "            # Выбираем для каждого слова индекс тэга с максимальной вероятностью\n",
        "            output = '''your code'''\n",
        "\n",
        "            #output = [sent len, batch size]\n",
        "            predict_tags = output.cpu().numpy()\n",
        "            true_tags = tags.cpu().numpy()\n",
        "\n",
        "            true_pred += np.sum((true_tags == predict_tags) & (true_tags != PAD_IDX))\n",
        "            num_pred += np.prod(true_tags.shape) - (true_tags == PAD_IDX).sum()\n",
        "\n",
        "    return round(true_pred / num_pred * 100, 3)"
      ],
      "metadata": {
        "id": "M0VRk8_kFoS-"
      },
      "execution_count": null,
      "outputs": []
    },
    {
      "cell_type": "code",
      "source": [
        "print(\"Accuracy:\", accuracy_model(model, test_iterator), '%')"
      ],
      "metadata": {
        "id": "xq9_6i7nFqAM"
      },
      "execution_count": null,
      "outputs": []
    },
    {
      "cell_type": "markdown",
      "source": [
        "Вы можете улучшить качество, изменяя параметры модели. Вам неоходимо добиться качества не меньше, чем `accuracy = 92 %`."
      ],
      "metadata": {
        "id": "8KhMmyBdFrf4"
      }
    },
    {
      "cell_type": "code",
      "source": [
        "best_model = LSTMTagger(INPUT_DIM, EMB_DIM, HID_DIM, OUTPUT_DIM, DROPOUT).to(device)\n",
        "best_model.load_state_dict(torch.load('best-val-model.pt'))\n",
        "assert accuracy_model(best_model, test_iterator) >= 92"
      ],
      "metadata": {
        "id": "k78T1TqOFtd5"
      },
      "execution_count": null,
      "outputs": []
    },
    {
      "cell_type": "markdown",
      "source": [
        "### **Если качество сети меньше 92 процентов, то снимается половина от всех полученных баллов .<br> То есть максимум в этом случае 5 баллов за работу.**\n",
        "\n",
        "\n"
      ],
      "metadata": {
        "id": "vixhQ0YJFs8T"
      }
    },
    {
      "cell_type": "markdown",
      "source": [
        "Пример решение нашей задачи:"
      ],
      "metadata": {
        "id": "I6yW3ezIFxDi"
      }
    },
    {
      "cell_type": "code",
      "source": [
        "def print_tags(model, data):\n",
        "    model.eval()\n",
        "\n",
        "    with torch.no_grad():\n",
        "        words, _ = data\n",
        "        example = torch.LongTensor([WORD.vocab.stoi[elem] for elem in words]).unsqueeze(1).to(device)\n",
        "\n",
        "        output = model(example).argmax(dim=-1).cpu().numpy()\n",
        "        tags = [TAG.vocab.itos[int(elem)] for elem in output]\n",
        "\n",
        "        for token, tag in zip(words, tags):\n",
        "            print(f'{token:15s}{tag}')"
      ],
      "metadata": {
        "id": "1I8ncP6YFyGR"
      },
      "execution_count": null,
      "outputs": []
    },
    {
      "cell_type": "code",
      "source": [
        "print_tags(model, pos_data[-1])"
      ],
      "metadata": {
        "id": "ap6kVnKNF0DT"
      },
      "execution_count": null,
      "outputs": []
    },
    {
      "cell_type": "markdown",
      "source": [
        "## Вывод:\n",
        "**(0.5 балл)**"
      ],
      "metadata": {
        "id": "t-ENYq8LF1h0"
      }
    }
  ]
}